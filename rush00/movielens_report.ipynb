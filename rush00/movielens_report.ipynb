{
 "cells": [
  {
   "cell_type": "markdown",
   "source": [
    "Report on data from a movie recommendation service [MovieLens](http://movielens.org)\n",
    "It uses the classes and methods from movielens_analysis.py"
   ],
   "metadata": {
    "collapsed": false,
    "pycharm": {
     "name": "#%% md\n"
    }
   }
  },
  {
   "cell_type": "code",
   "execution_count": 2,
   "outputs": [],
   "source": [
    "from movies import Movies"
   ],
   "metadata": {
    "collapsed": false,
    "pycharm": {
     "name": "#%%\n"
    }
   }
  },
  {
   "cell_type": "markdown",
   "source": [
    "## Movies\n",
    "We have dataset of 9742 movies containing title, geanre and year of release. Here are some statistics"
   ],
   "metadata": {
    "collapsed": false,
    "pycharm": {
     "name": "#%% md\n"
    }
   }
  },
  {
   "cell_type": "code",
   "execution_count": 6,
   "outputs": [],
   "source": [
    "%timeit\n",
    "mov = Movies('../dataset/movies.csv')"
   ],
   "metadata": {
    "collapsed": false,
    "pycharm": {
     "name": "#%%\n"
    }
   }
  },
  {
   "cell_type": "markdown",
   "source": [
    "Counts of movies by year of release"
   ],
   "metadata": {
    "collapsed": false,
    "pycharm": {
     "name": "#%% md\n"
    }
   }
  },
  {
   "cell_type": "code",
   "execution_count": 8,
   "outputs": [
    {
     "name": "stdout",
     "output_type": "stream",
     "text": [
      "{'2002': 310, '2006': 295, '2001': 294, '2007': 285, '2000': 283, '2009': 282, '2003': 279, '2004': 279, '2014': 278, '1996': 276, '2015': 274, '2005': 273, '2008': 269, '1999': 263, '1997': 260, '1995': 259, '1998': 258, '2011': 254, '2010': 247, '2013': 239, '1994': 237, '2012': 233, '2016': 218, '1993': 198, '1992': 167, '1988': 165, '1987': 153, '1990': 147, '1991': 147, '2017': 147, '1989': 142, '1986': 139, '1985': 126, '1984': 101, '1981': 92, '1980': 89, '1982': 87, '1983': 83, '1979': 69, '1977': 63, '1973': 59, '1978': 59, '1965': 47, '1971': 47, '1974': 45, '1976': 44, '1964': 43, '1967': 42, '1968': 42, '1975': 42, '1966': 42, '2018': 41, '1962': 40, '1972': 39, '1963': 39, '1959': 37, '1960': 37, '1955': 36, '1969': 35, '1961': 34, '1970': 33, '1957': 33, '1958': 31, '1953': 30, '1956': 30, '1940': 25, '1949': 25, '1954': 23, '1942': 23, '1939': 23, '1946': 23, '1951': 22, '1950': 21, '1947': 20, '1948': 20, '1941': 18, '1936': 18, '1945': 17, '1937': 16, '1952': 16, '1944': 16, '1938': 15, '1931': 14, '1935': 13, 'no year': 13, '1933': 12, '1934': 11, '1943': 10, '1932': 9, '1927': 7, '1930': 5, '1926': 5, '1924': 5, '1929': 4, '1928': 4, '1925': 4, '1923': 4, '1916': 4, '1920': 2, '1922': 1, '1919': 1, '1921': 1, '1915': 1, '1917': 1, '1902': 1, '1903': 1, '1908': 1}\n"
     ]
    }
   ],
   "source": [
    "%timeit\n",
    "print(mov.dist_by_release())"
   ],
   "metadata": {
    "collapsed": false,
    "pycharm": {
     "name": "#%%\n"
    }
   }
  },
  {
   "cell_type": "markdown",
   "source": [
    "Counts of different genres (a movie can have several genres)"
   ],
   "metadata": {
    "collapsed": false,
    "pycharm": {
     "name": "#%% md\n"
    }
   }
  },
  {
   "cell_type": "code",
   "execution_count": 9,
   "outputs": [
    {
     "name": "stdout",
     "output_type": "stream",
     "text": [
      "{'Drama': 4361, 'Comedy': 3756, 'Thriller': 1894, 'Action': 1828, 'Romance': 1596, 'Adventure': 1263, 'Crime': 1199, 'Sci-Fi': 980, 'Horror': 978, 'Fantasy': 779, 'Children': 664, 'Animation': 611, 'Mystery': 573, 'Documentary': 440, 'War': 382, 'Musical': 334, 'Western': 167, 'IMAX': 158, 'Film-Noir': 87, 'no genres listed': 34}\n"
     ]
    }
   ],
   "source": [
    "%timeit\n",
    "print(mov.dist_by_genres())"
   ],
   "metadata": {
    "collapsed": false,
    "pycharm": {
     "name": "#%%\n"
    }
   }
  },
  {
   "cell_type": "markdown",
   "source": [
    "Top 10 movies with the most count of genres"
   ],
   "metadata": {
    "collapsed": false,
    "pycharm": {
     "name": "#%% md\n"
    }
   }
  },
  {
   "cell_type": "code",
   "execution_count": 10,
   "outputs": [
    {
     "name": "stdout",
     "output_type": "stream",
     "text": [
      "{'Rubber': 10, 'Patlabor: The Movie (Kidô keisatsu patorebâ: The Movie)': 8, 'Mulan': 7, 'Who Framed Roger Rabbit?': 7, 'Osmosis Jones': 7, 'Interstate 60': 7, 'Robots': 7, 'Pulse': 7, 'Aqua Teen Hunger Force Colon Movie Film for Theaters': 7, 'Enchanted': 7}\n"
     ]
    }
   ],
   "source": [
    "%timeit\n",
    "print(mov.most_genres(10))"
   ],
   "metadata": {
    "collapsed": false,
    "pycharm": {
     "name": "#%%\n"
    }
   }
  },
  {
   "cell_type": "code",
   "execution_count": null,
   "outputs": [],
   "source": [],
   "metadata": {
    "collapsed": false,
    "pycharm": {
     "name": "#%%\n"
    }
   }
  }
 ],
 "metadata": {
  "kernelspec": {
   "display_name": "Python 3",
   "language": "python",
   "name": "python3"
  },
  "language_info": {
   "codemirror_mode": {
    "name": "ipython",
    "version": 2
   },
   "file_extension": ".py",
   "mimetype": "text/x-python",
   "name": "python",
   "nbconvert_exporter": "python",
   "pygments_lexer": "ipython2",
   "version": "2.7.6"
  }
 },
 "nbformat": 4,
 "nbformat_minor": 0
}